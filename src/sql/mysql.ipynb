{
    "metadata": {
        "kernelspec": {
            "name": "SQL",
            "display_name": "SQL",
            "language": "sql"
        },
        "language_info": {
            "name": "sql",
            "version": ""
        }
    },
    "nbformat_minor": 2,
    "nbformat": 4,
    "cells": [
        {
            "cell_type": "code",
            "source": [
                "DROP TABLE IF EXISTS Account;\r\n",
                "DROP TABLE IF EXISTS OTP;\r\n",
                "CREATE TABLE Account (\r\n",
                "                         user_id INT PRIMARY KEY,\r\n",
                "                         username VARCHAR(50) NOT NULL,\r\n",
                "                         user_password VARCHAR(50) NOT NULL,\r\n",
                "                         user_email VARCHAR(50) NOT NULL UNIQUE,\r\n",
                "                         created_at TIMESTAMP DEFAULT CURRENT_TIMESTAMP\r\n",
                ");\r\n",
                "CREATE TABLE OTP (\r\n",
                "                     user_id INT PRIMARY KEY,\r\n",
                "                     otp VARCHAR(50) NOT NULL,\r\n",
                "                     created_at TIMESTAMP DEFAULT CURRENT_TIMESTAMP,\r\n",
                "                     FOREIGN KEY(user_id) REFERENCES Account(user_id)\r\n",
                ");"
            ],
            "metadata": {
                "azdata_cell_guid": "a684bcbf-1e2a-4079-a923-652061c4a7ff",
                "language": "sql"
            },
            "outputs": [
                {
                    "output_type": "display_data",
                    "data": {
                        "text/html": "Total execution time: 00:00:00.003"
                    },
                    "metadata": {}
                },
                {
                    "output_type": "error",
                    "evalue": "3730 (HY000): Cannot drop table 'account' referenced by a foreign key constraint 'otp_ibfk_1' on table 'otp'.",
                    "ename": "",
                    "traceback": []
                }
            ],
            "execution_count": 34
        },
        {
            "cell_type": "code",
            "source": [
                "drop table if exists store_hours;\r\n",
                "drop table if exists restaurant;\r\n",
                "drop table if exists Article;\r\n",
                "drop table if exists category;\r\n",
                "drop table if exists restaurant_category;\r\n",
                "CREATE TABLE restaurant (\r\n",
                "    restaurant_id int PRIMARY KEY ,  -- Uses UUID as a primary key\r\n",
                "    restaurant_name VARCHAR(100),\r\n",
                "    restaurant_address VARCHAR(100),\r\n",
                "    restaurant_picture VARCHAR(100),\r\n",
                "    open_time TIME,\r\n",
                "    close_time TIME\r\n",
                ");\r\n",
                "CREATE TABLE  Article(\r\n",
                "    article_id int PRIMARY KEY,\r\n",
                "    title VARCHAR(100),\r\n",
                "    content TEXT,\r\n",
                "    image VARCHAR(100)\r\n",
                ");\r\n",
                "CREATE TABLE category(\r\n",
                "    category_id int PRIMARY KEY,\r\n",
                "    name VARCHAR(100),\r\n",
                "    image VARCHAR(100)\r\n",
                ");\r\n",
                "CREATE TABLE restaurant_category(\r\n",
                "    restaurant_id int,\r\n",
                "    category_id int,\r\n",
                "    PRIMARY KEY(category_id),\r\n",
                "    FOREIGN KEY(restaurant_id) REFERENCES restaurant(restaurant_id),\r\n",
                "    FOREIGN KEY(category_id) REFERENCES category(category_id)\r\n",
                ");\r\n",
                "\r\n",
                "\r\n",
                ""
            ],
            "metadata": {
                "language": "sql",
                "azdata_cell_guid": "e26277d2-d5ed-4d05-832d-df34c0202f6e",
                "tags": []
            },
            "outputs": [
                {
                    "output_type": "display_data",
                    "data": {
                        "text/html": "Commands completed successfully"
                    },
                    "metadata": {}
                },
                {
                    "output_type": "display_data",
                    "data": {
                        "text/html": "Total execution time: 00:00:00.007"
                    },
                    "metadata": {}
                }
            ],
            "execution_count": 18
        },
        {
            "cell_type": "markdown",
            "source": [
                ""
            ],
            "metadata": {
                "azdata_cell_guid": "dbfc7b47-886a-40a4-9886-34ae67b8d9e9"
            },
            "attachments": {}
        },
        {
            "cell_type": "code",
            "source": [
                "INSERT INTO restaurant (restaurant_id, restaurant_name, restaurant_address, restaurant_picture, open_time, close_time)\r\n",
                "VALUES (1, 'The Great Restaurant', '123 Main St', 'great_restaurant.png', '09:00:00', '22:00:00');\r\n",
                "\r\n",
                ""
            ],
            "metadata": {
                "azdata_cell_guid": "1b53b119-379e-44ae-b975-0060e3aa8850",
                "language": "sql"
            },
            "outputs": [
                {
                    "output_type": "display_data",
                    "data": {
                        "text/html": "Total execution time: 00:00:00.002"
                    },
                    "metadata": {}
                },
                {
                    "output_type": "error",
                    "evalue": "1062 (23000): Duplicate entry '1' for key 'restaurant.PRIMARY'",
                    "ename": "",
                    "traceback": []
                }
            ],
            "execution_count": 22
        },
        {
            "cell_type": "code",
            "source": [
                "SELECT restaurant_name,restaurant_address,restaurant_picture, TIME_FORMAT(open_time, '%H:%i')\r\n",
                "As open_time , TIME_FORMAT(close_time, '%H:%i') \r\n",
                "AS open_time \r\n",
                "FROM restaurant;"
            ],
            "metadata": {
                "azdata_cell_guid": "1b2e4e39-31ed-4428-9cce-8d7211fdd868",
                "language": "sql"
            },
            "outputs": [
                {
                    "output_type": "display_data",
                    "data": {
                        "text/html": "(1 row(s) affected)"
                    },
                    "metadata": {}
                },
                {
                    "output_type": "display_data",
                    "data": {
                        "text/html": "Total execution time: 00:00:01.007"
                    },
                    "metadata": {}
                },
                {
                    "output_type": "execute_result",
                    "metadata": {},
                    "execution_count": 27,
                    "data": {
                        "application/vnd.dataresource+json": {
                            "schema": {
                                "fields": [
                                    {
                                        "name": "restaurant_name"
                                    },
                                    {
                                        "name": "restaurant_address"
                                    },
                                    {
                                        "name": "restaurant_picture"
                                    },
                                    {
                                        "name": "open_time"
                                    },
                                    {
                                        "name": "open_time"
                                    }
                                ]
                            },
                            "data": [
                                {
                                    "restaurant_name": "The Great Restaurant",
                                    "restaurant_address": "123 Main St",
                                    "restaurant_picture": "great_restaurant.png",
                                    "open_time": "22:00"
                                }
                            ]
                        },
                        "text/html": [
                            "<table>",
                            "<tr><th>restaurant_name</th><th>restaurant_address</th><th>restaurant_picture</th><th>open_time</th><th>open_time</th></tr>",
                            "<tr><td>The Great Restaurant</td><td>123 Main St</td><td>great_restaurant.png</td><td>09:00</td><td>22:00</td></tr>",
                            "</table>"
                        ]
                    }
                }
            ],
            "execution_count": 27
        }
    ]
}